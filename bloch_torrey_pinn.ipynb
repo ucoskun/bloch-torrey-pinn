{
  "cells": [
    {
      "cell_type": "markdown",
      "metadata": {
        "id": "view-in-github",
        "colab_type": "text"
      },
      "source": [
        "<a href=\"https://colab.research.google.com/github/ucoskun/bloch-torrey-pinn/blob/main/bloch_torrey_pinn.ipynb\" target=\"_parent\"><img src=\"https://colab.research.google.com/assets/colab-badge.svg\" alt=\"Open In Colab\"/></a>"
      ]
    },
    {
      "cell_type": "markdown",
      "metadata": {
        "id": "TLncjuFUlkce"
      },
      "source": [
        "**Install deepXDE**  \n",
        "Tensorflow and all other dependencies are already installed in Colab terminals"
      ]
    },
    {
      "cell_type": "code",
      "execution_count": 1,
      "metadata": {
        "id": "dibZzRjplLH-"
      },
      "outputs": [],
      "source": [
        "!pip install deepxde;\n",
        "import numpy as np\n",
        "\n",
        "import deepxde as dde\n",
        "from deepxde.backend import tf\n",
        "# For plotting\n",
        "import matplotlib.pyplot as plt\n",
        "from scipy.interpolate import griddata\n",
        "\n",
        "# For cleaning the messy deepXDE installation output\n",
        "from IPython.display import clear_output\n",
        "clear_output()\n"
      ]
    },
    {
      "cell_type": "markdown",
      "metadata": {
        "id": "b3xODfvG_ecI"
      },
      "source": [
        "**References:**\n",
        "\n",
        "**[1]** Kenkre et. al. Simple Solutions of the Torrey–Bloch Equations\n",
        "in the NMR Study of Molecular Diffusion : https://physics.unm.edu/kenkre/papers/Art164.pdf\n",
        "\n",
        "\n",
        "\n",
        "---\n",
        "\n",
        "# **Solving Torrey-Bloch Equations via Physics-Informed Neural Networks (PINNs)**\n",
        "\n",
        "Trying to reproduce the results in **[1]** using PINNs (deepxde library)\n",
        "\n",
        "Bloch-Torrey equation for the magnetization density $M(\\mathbf{r},t)$ with diffusion coefficient $D$ and arbitrary time-dependent liear gradient field is\n",
        "\n",
        "$$M_t(\\mathbf{r},t) = -igf(t)xM(\\mathbf{r},t) + D\\nabla^2M(\\mathbf{r},t)$$\n",
        "\n",
        "In 1-D\n",
        "\n",
        "$$M_t(x,t) = -igf(t)xM(x,t) + D M_{xx}(x,t)$$\n",
        "\n",
        "NMR signal is defined by\n",
        "\n",
        "$$M(t) = \\int_{-∞}^∞ M(x,t)dx$$\n",
        "\n",
        "Denoting real and imaginary parts of $M(x,t) = u(x, t) + iv(x, t)$ we have\n",
        "\n",
        "$$u_t - v(x, t) g f(t) x - Du_{xx}=0$$\n",
        "$$v_t + u(x, t) g f(t) x - Dv_{xx}=0$$\n",
        "\n",
        "where $f(x)$ is the envelope function of the external magnetic field."
      ]
    },
    {
      "cell_type": "markdown",
      "source": [
        "# Case (iii) : Nonuniform Initial Density"
      ],
      "metadata": {
        "id": "Z1OM-eSDhtOn"
      }
    },
    {
      "cell_type": "markdown",
      "source": [
        "Since we consider constant gradient we will set $f(t) = 1$.\n",
        "\n",
        "First consider an initial square distribution\n",
        "\n",
        "$$t\\in [0, 3]$$\n",
        "\n",
        "$$M(x, 0) = 1/L, x\\in [-L/2, L/2]$$ otherwise 0.\n",
        "\n",
        "Let's set $g=D=1$ so we have $T=(Dg^2)^{1/3}t = t$ and the parameter $p \\equiv (g/D)^{1/3}L = L = 0, 2, 5, 20$.\n",
        "\n",
        "The analytical solution is (Eq. (16) of **[1]**)\n",
        "$$M(t) = \\frac{\\sin(tL/2)}{tL/2}e^{-t^3/3}$$\n",
        "\n",
        "Let's plot it"
      ],
      "metadata": {
        "id": "aR9jidDZgEfj"
      }
    },
    {
      "cell_type": "code",
      "execution_count": 2,
      "metadata": {
        "colab": {
          "base_uri": "https://localhost:8080/",
          "height": 296
        },
        "id": "YjOFqj77nl_R",
        "outputId": "7eae3d74-2832-461f-f4f7-ca5aded274f2"
      },
      "outputs": [
        {
          "output_type": "execute_result",
          "data": {
            "text/plain": [
              "<matplotlib.legend.Legend at 0x7ff4ca656d10>"
            ]
          },
          "metadata": {},
          "execution_count": 2
        },
        {
          "output_type": "display_data",
          "data": {
            "text/plain": [
              "<Figure size 432x288 with 1 Axes>"
            ],
            "image/png": "[encoded data removed]"
          },
          "metadata": {
            "needs_background": "light"
          }
        }
      ],
      "source": [
        "time = np.linspace(0.0001, 3, 300) # This time is used only for plotting the\n",
        "                                   # analytical solution\n",
        "\n",
        "def M_T(L):\n",
        "    return 2*np.sin(time * L/2)/(L * time) * np.exp(-time**3 / 3)\n",
        "\n",
        "plt.plot(time, M_T(0.0001), label = \"p = 0\")\n",
        "plt.plot(time, M_T(2), label = \"p = 2\")\n",
        "plt.plot(time, M_T(5), label = \"p = 5\")\n",
        "plt.plot(time, M_T(20), label = \"p = 20\")\n",
        "\n",
        "plt.xlabel(\"T\")\n",
        "plt.ylabel(\"M(T)\")\n",
        "plt.legend()"
      ]
    },
    {
      "cell_type": "code",
      "execution_count": 3,
      "metadata": {
        "id": "Oj-6F7RuobUn"
      },
      "outputs": [],
      "source": [
        "# Set x domain size randomly\n",
        "L = 20\n",
        "x_range = L/2\n",
        "x_lower = -x_range\n",
        "x_upper = x_range\n",
        "t_lower = 0\n",
        "t_upper = 3\n",
        "\n",
        "# Creation of the 2D domain (for plotting and input, not for training!)\n",
        "x_size = 5000\n",
        "t_size = 300\n",
        "x = np.linspace(x_lower, x_upper, x_size)\n",
        "t = np.linspace(t_lower, t_upper, t_size)\n",
        "X, T = np.meshgrid(x, t)\n",
        "\n",
        "# The whole domain flattened (again only for prediction, not for training)\n",
        "X_star = np.hstack((X.flatten()[:, None], T.flatten()[:, None]))\n",
        "\n",
        "# Space and time domains/geometry (for the deepXDE model)\n",
        "space_domain = dde.geometry.Interval(x_lower, x_upper)\n",
        "time_domain = dde.geometry.TimeDomain(t_lower, t_upper)\n",
        "geomtime = dde.geometry.GeometryXTime(space_domain, time_domain)"
      ]
    },
    {
      "cell_type": "code",
      "source": [
        "# Visualize the initial condition\n",
        "def square_func(x):\n",
        "    y = np.ones_like(x)\n",
        "    y[x > L/2] = 0\n",
        "    y[x < -L/2] = 0\n",
        "    return y\n",
        "\n",
        "some_domain = np.linspace(-10, 10, 100)\n",
        "\n",
        "plt.plot(some_domain, square_func(some_domain))\n",
        "plt.xlabel(r\"$x$\")\n",
        "plt.ylabel(r\"$M(x, 0)$\")\n",
        "plt.title(r\"Initial condition function for $L=$\" + str(L))\n"
      ],
      "metadata": {
        "colab": {
          "base_uri": "https://localhost:8080/",
          "height": 313
        },
        "id": "bNWEt01x0JQC",
        "outputId": "e4e4252e-192e-4ca3-95de-a448b0e01756"
      },
      "execution_count": 4,
      "outputs": [
        {
          "output_type": "execute_result",
          "data": {
            "text/plain": [
              "Text(0.5, 1.0, 'Initial condition function for $L=$20')"
            ]
          },
          "metadata": {},
          "execution_count": 4
        },
        {
          "output_type": "display_data",
          "data": {
            "text/plain": [
              "<Figure size 432x288 with 1 Axes>"
            ],
            "image/png": "[encoded data removed]"
          },
          "metadata": {
            "needs_background": "light"
          }
        }
      ]
    },
    {
      "cell_type": "code",
      "execution_count": 5,
      "metadata": {
        "id": "dbx1YulhoORs"
      },
      "outputs": [],
      "source": [
        "# The \"physics-informed\" part of the loss\n",
        "\n",
        "\n",
        "def pde(x, y):\n",
        "    \"\"\"\n",
        "    INPUTS:\n",
        "        x: x[:,0] is x-coordinate\n",
        "           x[:,1] is t-coordinate\n",
        "        y: Network output, in this case:\n",
        "            y[:,0] is u(x,t) the real part\n",
        "            y[:,1] is v(x,t) the imaginary part\n",
        "    OUTPUT:\n",
        "        The pde in standard form i.e. something that must be zero\n",
        "    \"\"\"\n",
        "\n",
        "    u = y[:, 0:1]\n",
        "    v = y[:, 1:2]\n",
        "\n",
        "    # In 'jacobian', i is the output component and j is the input component\n",
        "    u_t = dde.grad.jacobian(y, x, i=0, j=1)\n",
        "    v_t = dde.grad.jacobian(y, x, i=1, j=1)\n",
        "\n",
        "    # In 'hessian', i and j are both input components. (The Hessian could be in principle something like d^2y/dxdt, d^2y/d^2x etc)\n",
        "    # The output component is selected by \"component\"\n",
        "    u_xx = dde.grad.hessian(y, x, component=0, i=0, j=0)\n",
        "    v_xx = dde.grad.hessian(y, x, component=1, i=0, j=0)\n",
        "\n",
        "    f_t = 1\n",
        "    f_u = (u_t - v * f_t * x[:, 0:1] - u_xx)\n",
        "    f_v = (v_t + u * f_t * x[:, 0:1] - v_xx)\n",
        "\n",
        "    return [f_u, f_v]"
      ]
    },
    {
      "cell_type": "code",
      "execution_count": 6,
      "metadata": {
        "id": "OisdDqf0oSLx"
      },
      "outputs": [],
      "source": [
        "# Soft Initial conditions\n",
        "\n",
        "def init_cond_u(x):\n",
        "    # Gaussian approximation of delta function\n",
        "    return np.ones_like(x[:, 0:1])/L\n",
        "\n",
        "def init_cond_v(x):\n",
        "    return 0\n",
        "\n",
        "\n",
        "ic_u = dde.icbc.IC(geomtime, init_cond_u, lambda _, on_initial: on_initial, component=0)\n",
        "ic_v = dde.icbc.IC(geomtime, init_cond_v, lambda _, on_initial: on_initial, component=1)\n"
      ]
    },
    {
      "cell_type": "code",
      "execution_count": 7,
      "metadata": {
        "id": "u-f8sfj2oWgy",
        "colab": {
          "base_uri": "https://localhost:8080/"
        },
        "outputId": "b2ed057b-1f25-4969-8a44-bdca660193da"
      },
      "outputs": [
        {
          "output_type": "stream",
          "name": "stderr",
          "text": [
            "/usr/local/lib/python3.7/dist-packages/skopt/sampler/sobol.py:250: UserWarning: The balance properties of Sobol' points require n to be a power of 2. 0 points have been previously generated, then: n=0+16386=16386. \n",
            "  total_n_samples))\n"
          ]
        }
      ],
      "source": [
        "data = dde.data.TimePDE(\n",
        "    geomtime,\n",
        "    pde,\n",
        "    [],\n",
        "    num_domain=16384,\n",
        "    num_initial=0,\n",
        "    train_distribution=\"Sobol\"\n",
        ")\n",
        "\n",
        "def modify_output(x, y):\n",
        "    u, v = y[:, 0:1], y[:, 1:2]\n",
        "    u_new = x[:, 1:2] * u + tf.ones_like(x[:, 0:1])\n",
        "    v_new = x[:, 1:2] * v\n",
        "    print(u[0], v[0])\n",
        "    return tf.concat((u_new, v_new), axis=1)\n",
        "\n",
        "# Network architecture\n",
        "net = dde.nn.FNN([2] + [64] * 3 + [2], \"tanh\", \"Glorot normal\")\n",
        "\n",
        "net.apply_output_transform(modify_output)\n",
        "\n",
        "model = dde.Model(data, net)"
      ]
    },
    {
      "cell_type": "markdown",
      "metadata": {
        "id": "Hu5Tyq32DezT"
      },
      "source": [
        "Adam optimization.  "
      ]
    },
    {
      "cell_type": "code",
      "execution_count": 8,
      "metadata": {
        "colab": {
          "base_uri": "https://localhost:8080/"
        },
        "id": "BR_s0D-_oZYz",
        "outputId": "64953837-f7fc-4671-e2a7-9c5f92234ea2"
      },
      "outputs": [
        {
          "output_type": "stream",
          "name": "stdout",
          "text": [
            "Compiling model...\n",
            "Building feed-forward neural network...\n",
            "Tensor(\"strided_slice_5:0\", shape=(1,), dtype=float32) Tensor(\"strided_slice_6:0\", shape=(1,), dtype=float32)\n",
            "'build' took 0.092086 s\n",
            "\n"
          ]
        },
        {
          "output_type": "stream",
          "name": "stderr",
          "text": [
            "/usr/local/lib/python3.7/dist-packages/deepxde/nn/tensorflow_compat_v1/fnn.py:110: UserWarning: `tf.layers.dense` is deprecated and will be removed in a future version. Please use `tf.keras.layers.Dense` instead.\n",
            "  kernel_constraint=self.kernel_constraint,\n",
            "/usr/local/lib/python3.7/dist-packages/keras/legacy_tf_layers/core.py:261: UserWarning: `layer.apply` is deprecated and will be removed in a future version. Please use `layer.__call__` method instead.\n",
            "  return layer.apply(inputs)\n"
          ]
        },
        {
          "output_type": "stream",
          "name": "stdout",
          "text": [
            "'compile' took 1.874710 s\n",
            "\n",
            "Initializing variables...\n",
            "Training model...\n",
            "\n",
            "Step      Train loss              Test loss               Test metric\n",
            "0         [1.07e+02, 8.80e+01]    [1.07e+02, 8.80e+01]    []  \n",
            "1000      [5.53e-01, 1.14e+00]    [5.53e-01, 1.14e+00]    []  \n",
            "2000      [4.90e-01, 5.71e-01]    [4.90e-01, 5.71e-01]    []  \n",
            "3000      [3.43e-01, 3.64e-01]    [3.43e-01, 3.64e-01]    []  \n",
            "4000      [2.22e-01, 2.30e-01]    [2.22e-01, 2.30e-01]    []  \n",
            "5000      [1.36e-01, 1.47e-01]    [1.36e-01, 1.47e-01]    []  \n",
            "6000      [1.02e-01, 1.11e-01]    [1.02e-01, 1.11e-01]    []  \n",
            "7000      [8.40e-02, 9.49e-02]    [8.40e-02, 9.49e-02]    []  \n",
            "8000      [6.65e-02, 7.03e-02]    [6.65e-02, 7.03e-02]    []  \n",
            "9000      [5.60e-02, 6.12e-02]    [5.60e-02, 6.12e-02]    []  \n",
            "10000     [4.70e-02, 5.04e-02]    [4.70e-02, 5.04e-02]    []  \n",
            "11000     [4.00e-02, 4.46e-02]    [4.00e-02, 4.46e-02]    []  \n",
            "12000     [3.32e-02, 3.70e-02]    [3.32e-02, 3.70e-02]    []  \n",
            "13000     [2.78e-02, 2.95e-02]    [2.78e-02, 2.95e-02]    []  \n",
            "14000     [2.41e-02, 3.00e-02]    [2.41e-02, 3.00e-02]    []  \n",
            "15000     [2.01e-02, 2.12e-02]    [2.01e-02, 2.12e-02]    []  \n",
            "16000     [2.50e-02, 4.88e-02]    [2.50e-02, 4.88e-02]    []  \n",
            "17000     [1.93e-02, 1.54e-02]    [1.93e-02, 1.54e-02]    []  \n",
            "18000     [1.06e-02, 1.03e-02]    [1.06e-02, 1.03e-02]    []  \n",
            "19000     [9.00e-03, 8.48e-03]    [9.00e-03, 8.48e-03]    []  \n",
            "20000     [2.07e-02, 7.96e-03]    [2.07e-02, 7.96e-03]    []  \n",
            "21000     [6.69e-03, 6.24e-03]    [6.69e-03, 6.24e-03]    []  \n",
            "22000     [5.58e-03, 5.44e-03]    [5.58e-03, 5.44e-03]    []  \n",
            "23000     [4.07e-02, 1.10e-02]    [4.07e-02, 1.10e-02]    []  \n",
            "24000     [4.21e-03, 4.37e-03]    [4.21e-03, 4.37e-03]    []  \n",
            "25000     [3.70e-03, 4.00e-03]    [3.70e-03, 4.00e-03]    []  \n",
            "26000     [3.25e-03, 3.63e-03]    [3.25e-03, 3.63e-03]    []  \n",
            "27000     [2.93e-03, 3.38e-03]    [2.93e-03, 3.38e-03]    []  \n",
            "28000     [3.03e-03, 3.12e-03]    [3.03e-03, 3.12e-03]    []  \n",
            "29000     [4.79e-03, 2.94e-03]    [4.79e-03, 2.94e-03]    []  \n",
            "30000     [2.79e-03, 6.33e-03]    [2.79e-03, 6.33e-03]    []  \n",
            "\n",
            "Best model at step 28000:\n",
            "  train loss: 6.15e-03\n",
            "  test loss: 6.15e-03\n",
            "  test metric: []\n",
            "\n",
            "'train' took 280.867915 s\n",
            "\n"
          ]
        },
        {
          "output_type": "execute_result",
          "data": {
            "text/plain": [
              "(<deepxde.model.LossHistory at 0x7ff4ca66ce50>,\n",
              " <deepxde.model.TrainState at 0x7ff4cb2b7490>)"
            ]
          },
          "metadata": {},
          "execution_count": 8
        }
      ],
      "source": [
        "# To employ a GPU accelerated system is highly encouraged.\n",
        "\n",
        "model.compile(\"adam\", lr=1e-3, loss=\"MSE\", loss_weights=[1, 1])\n",
        "model.train(epochs=30000, display_every=1000)"
      ]
    },
    {
      "cell_type": "markdown",
      "metadata": {
        "id": "xbAdby9zDosK"
      },
      "source": [
        "L-BFGS optimization."
      ]
    },
    {
      "cell_type": "code",
      "execution_count": 9,
      "metadata": {
        "id": "SVSKBTp6qRX8",
        "colab": {
          "base_uri": "https://localhost:8080/"
        },
        "outputId": "23570b7e-bf20-4abb-ae3f-61959edb5c93"
      },
      "outputs": [
        {
          "output_type": "stream",
          "name": "stdout",
          "text": [
            "Compiling model...\n",
            "'compile' took 0.517836 s\n",
            "\n",
            "Training model...\n",
            "\n",
            "Step      Train loss              Test loss               Test metric\n",
            "30000     [2.79e-03, 6.33e-03]    [2.79e-03, 6.33e-03]    []  \n",
            "31000     [7.03e-04, 6.85e-04]                                \n",
            "32000     [3.41e-04, 3.84e-04]                                \n",
            "33000     [2.30e-04, 2.25e-04]                                \n",
            "34000     [1.69e-04, 1.46e-04]                                \n",
            "35000     [1.34e-04, 1.01e-04]                                \n",
            "36000     [1.03e-04, 8.93e-05]                                \n",
            "37000     [8.35e-05, 7.35e-05]                                \n",
            "38000     [6.91e-05, 5.84e-05]                                \n",
            "39000     [5.91e-05, 4.77e-05]                                \n",
            "40000     [4.92e-05, 4.26e-05]                                \n",
            "INFO:tensorflow:Optimization terminated with:\n",
            "  Message: b'STOP: TOTAL NO. of f AND g EVALUATIONS EXCEEDS LIMIT'\n",
            "  Objective function value: 0.000092\n",
            "  Number of iterations: 9310\n",
            "  Number of functions evaluations: 10001\n",
            "40001     [4.92e-05, 4.26e-05]    [4.92e-05, 4.26e-05]    []  \n",
            "\n",
            "Best model at step 40001:\n",
            "  train loss: 9.18e-05\n",
            "  test loss: 9.18e-05\n",
            "  test metric: []\n",
            "\n",
            "'train' took 140.236250 s\n",
            "\n"
          ]
        },
        {
          "output_type": "execute_result",
          "data": {
            "text/plain": [
              "(<deepxde.model.LossHistory at 0x7ff4ca66ce50>,\n",
              " <deepxde.model.TrainState at 0x7ff4cb2b7490>)"
            ]
          },
          "metadata": {},
          "execution_count": 9
        }
      ],
      "source": [
        "\n",
        "dde.optimizers.config.set_LBFGS_options(\n",
        "    maxcor=50,\n",
        "    ftol=1.0 * np.finfo(float).eps,\n",
        "    gtol=1e-08,\n",
        "    maxiter=80000,\n",
        "    maxfun=10000,\n",
        "    maxls=50,\n",
        ")\n",
        "model.compile(\"L-BFGS\")\n",
        "model.train()\n"
      ]
    },
    {
      "cell_type": "code",
      "execution_count": 10,
      "metadata": {
        "id": "aYl4TD96FrLV"
      },
      "outputs": [],
      "source": [
        "# Make prediction\n",
        "prediction = model.predict(X_star, operator=None)\n",
        "\n",
        "u = griddata(X_star, prediction[:, 0], (X, T), method=\"cubic\")\n",
        "v = griddata(X_star, prediction[:, 1], (X, T), method=\"cubic\")\n",
        "\n",
        "h = np.sqrt(u ** 2 + v ** 2)\n"
      ]
    },
    {
      "cell_type": "code",
      "source": [
        "u_in = np.trapz(u, x= x, axis = 1)\n",
        "v_in = np.trapz(v, x= x, axis = 1)\n",
        "\n",
        "h_in = np.sqrt(u_in**2 + v_in**2)\n",
        "plt.rcParams[\"figure.figsize\"] = (16,8)\n",
        "plt.plot(t, h_in/L, color=\"blue\",linewidth=4.5, label=\"Neural Network Scaled by $1/L$\")\n",
        "plt.xlabel(\"T\")\n",
        "plt.ylabel(\"M(T)\")\n",
        "plt.plot(time, np.abs(M_T(L)), color=\"red\",linewidth=2.5, label = \"p = 1\")\n",
        "plt.legend()\n",
        "plt.xlim(0,3)"
      ],
      "metadata": {
        "id": "rEjW13wFBNBe",
        "colab": {
          "base_uri": "https://localhost:8080/",
          "height": 514
        },
        "outputId": "bfba47fa-6d90-4b5d-b620-cae2cb64573c"
      },
      "execution_count": 30,
      "outputs": [
        {
          "output_type": "execute_result",
          "data": {
            "text/plain": [
              "(0.0, 3.0)"
            ]
          },
          "metadata": {},
          "execution_count": 30
        },
        {
          "output_type": "display_data",
          "data": {
            "text/plain": [
              "<Figure size 1152x576 with 1 Axes>"
            ],
            "image/png": "[encoded data removed]"
          },
          "metadata": {
            "needs_background": "light"
          }
        }
      ]
    },
    {
      "cell_type": "code",
      "source": [
        ""
      ],
      "metadata": {
        "id": "6A3kWFShA5gp"
      },
      "execution_count": 11,
      "outputs": []
    }
  ],
  "metadata": {
    "accelerator": "GPU",
    "colab": {
      "collapsed_sections": [],
      "name": "bloch_torrey_pinn.ipynb",
      "provenance": [],
      "toc_visible": true,
      "include_colab_link": true
    },
    "kernelspec": {
      "display_name": "Python 3 (ipykernel)",
      "language": "python",
      "name": "python3"
    },
    "language_info": {
      "codemirror_mode": {
        "name": "ipython",
        "version": 3
      },
      "file_extension": ".py",
      "mimetype": "text/x-python",
      "name": "python",
      "nbconvert_exporter": "python",
      "pygments_lexer": "ipython3",
      "version": "3.8.8"
    }
  },
  "nbformat": 4,
  "nbformat_minor": 0
}