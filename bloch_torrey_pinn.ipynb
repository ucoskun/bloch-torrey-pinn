{
  "cells": [
    {
      "cell_type": "markdown",
      "metadata": {
        "id": "view-in-github",
        "colab_type": "text"
      },
      "source": [
        "<a href=\"https://colab.research.google.com/github/ucoskun/bloch-torrey-pinn/blob/main/bloch_torrey_pinn.ipynb\" target=\"_parent\"><img src=\"https://colab.research.google.com/assets/colab-badge.svg\" alt=\"Open In Colab\"/></a>"
      ]
    },
    {
      "cell_type": "markdown",
      "metadata": {
        "id": "TLncjuFUlkce"
      },
      "source": [
        "**Install deepXDE**  \n",
        "Tensorflow and all other dependencies are already installed in Colab terminals"
      ]
    },
    {
      "cell_type": "code",
      "execution_count": 1,
      "metadata": {
        "id": "dibZzRjplLH-"
      },
      "outputs": [],
      "source": [
        "!pip install deepxde;\n",
        "import numpy as np\n",
        "\n",
        "import deepxde as dde\n",
        "from deepxde.backend import tf\n",
        "# For plotting\n",
        "import matplotlib.pyplot as plt\n",
        "from scipy.interpolate import griddata\n",
        "\n",
        "# For cleaning the messy deepXDE installation output\n",
        "from IPython.display import clear_output\n",
        "clear_output()\n"
      ]
    },
    {
      "cell_type": "markdown",
      "metadata": {
        "id": "b3xODfvG_ecI"
      },
      "source": [
        "**References:**\n",
        "\n",
        "**[1]** Kenkre et. al. Simple Solutions of the Torrey–Bloch Equations\n",
        "in the NMR Study of Molecular Diffusion : https://physics.unm.edu/kenkre/papers/Art164.pdf\n",
        "\n",
        "\n",
        "\n",
        "---\n",
        "\n",
        "# **Solving Torrey-Bloch Equations via Physics-Informed Neural Networks (PINNs)**\n",
        "\n",
        "Trying to reproduce the results in **[1]** using PINNs (deepxde library)\n",
        "\n",
        "Bloch-Torrey equation for the magnetization density $M(\\mathbf{r},t)$ with diffusion coefficient $D$ and arbitrary time-dependent liear gradient field is\n",
        "\n",
        "$$M_t(\\mathbf{r},t) = -igf(t)xM(\\mathbf{r},t) + D\\nabla^2M(\\mathbf{r},t)$$\n",
        "\n",
        "In 1-D\n",
        "\n",
        "$$M_t(x,t) = -igf(t)xM(x,t) + D M_{xx}(x,t)$$\n",
        "\n",
        "NMR signal is defined by\n",
        "\n",
        "$$M(t) = \\int_{-∞}^∞ M(x,t)dx$$\n",
        "\n",
        "Denoting real and imaginary parts of $M(x,t) = u(x, t) + iv(x, t)$ we have\n",
        "\n",
        "$$u_t - v(x, t) g f(t) x - Du_{xx}=0$$\n",
        "$$v_t + u(x, t) g f(t) x - Dv_{xx}=0$$\n",
        "\n",
        "where $f(x)$ is the envelope function of the external magnetic field."
      ]
    },
    {
      "cell_type": "markdown",
      "source": [
        "# Case (iii) : Nonuniform Initial Density"
      ],
      "metadata": {
        "id": "Z1OM-eSDhtOn"
      }
    },
    {
      "cell_type": "markdown",
      "source": [
        "Since we consider constant gradient we will set $f(t) = 1$.\n",
        "\n",
        "First consider an initial square distribution\n",
        "\n",
        "$$t\\in [0, 3]$$\n",
        "\n",
        "$$M(x, 0) = 1/L, x\\in [-L/2, L/2]$$ otherwise 0.\n",
        "\n",
        "Let's set $g=D=1$ so we have $T=(Dg^2)^{1/3}t = t$ and the parameter $p \\equiv (g/D)^{1/3}L = L = 0, 2, 5, 20$.\n",
        "\n",
        "The analytical solution is (Eq. (16) of **[1]**)\n",
        "$$M(t) = \\frac{\\sin(tL/2)}{tL/2}e^{-t^3/3}$$\n",
        "\n",
        "Let's plot it"
      ],
      "metadata": {
        "id": "aR9jidDZgEfj"
      }
    },
    {
      "cell_type": "code",
      "execution_count": 2,
      "metadata": {
        "colab": {
          "base_uri": "https://localhost:8080/",
          "height": 296
        },
        "id": "YjOFqj77nl_R",
        "outputId": "a0b8ccae-70b2-4121-d24b-6bf304902818"
      },
      "outputs": [
        {
          "output_type": "execute_result",
          "data": {
            "text/plain": [
              "<matplotlib.legend.Legend at 0x7f61bad66dd0>"
            ]
          },
          "metadata": {},
          "execution_count": 2
        },
        {
          "output_type": "display_data",
          "data": {
            "text/plain": [
              "<Figure size 432x288 with 1 Axes>"
            ],
            "image/png": "[encoded data removed]"
          },
          "metadata": {
            "needs_background": "light"
          }
        }
      ],
      "source": [
        "time = np.linspace(0.0001, 3, 300) # This time is used only for plotting the\n",
        "                                   # analytical solution\n",
        "\n",
        "def M_T(L):\n",
        "    return 2*np.sin(time * L/2)/(L * time) * np.exp(-time**3 / 3)\n",
        "\n",
        "plt.plot(time, M_T(0.0001), label = \"p = 0\")\n",
        "plt.plot(time, M_T(2), label = \"p = 2\")\n",
        "plt.plot(time, M_T(5), label = \"p = 5\")\n",
        "plt.plot(time, M_T(20), label = \"p = 20\")\n",
        "\n",
        "plt.xlabel(\"T\")\n",
        "plt.ylabel(\"M(T)\")\n",
        "plt.legend()"
      ]
    },
    {
      "cell_type": "code",
      "execution_count": 3,
      "metadata": {
        "id": "Oj-6F7RuobUn"
      },
      "outputs": [],
      "source": [
        "# Set x domain size randomly\n",
        "L = 20\n",
        "x_range = L/2\n",
        "x_lower = -x_range\n",
        "x_upper = x_range\n",
        "t_lower = 0\n",
        "t_upper = 3\n",
        "\n",
        "# Creation of the 2D domain (for plotting and input, not for training!)\n",
        "x_size = 5000\n",
        "t_size = 300\n",
        "x = np.linspace(x_lower, x_upper, x_size)\n",
        "t = np.linspace(t_lower, t_upper, t_size)\n",
        "X, T = np.meshgrid(x, t)\n",
        "\n",
        "# The whole domain flattened (again only for prediction, not for training)\n",
        "X_star = np.hstack((X.flatten()[:, None], T.flatten()[:, None]))\n",
        "\n",
        "# Space and time domains/geometry (for the deepXDE model)\n",
        "space_domain = dde.geometry.Interval(x_lower, x_upper)\n",
        "time_domain = dde.geometry.TimeDomain(t_lower, t_upper)\n",
        "geomtime = dde.geometry.GeometryXTime(space_domain, time_domain)"
      ]
    },
    {
      "cell_type": "code",
      "source": [
        "# Visualize the initial condition\n",
        "def square_func(x):\n",
        "    y = np.ones_like(x)\n",
        "    y[x > L/2] = 0\n",
        "    y[x < -L/2] = 0\n",
        "    return y\n",
        "\n",
        "some_domain = np.linspace(-10, 10, 100)\n",
        "\n",
        "plt.plot(some_domain, square_func(some_domain))\n",
        "plt.xlabel(r\"$x$\")\n",
        "plt.ylabel(r\"$M(x, 0)$\")\n",
        "plt.title(r\"Initial condition function for $L=$\" + str(L))\n"
      ],
      "metadata": {
        "colab": {
          "base_uri": "https://localhost:8080/",
          "height": 313
        },
        "id": "bNWEt01x0JQC",
        "outputId": "69517fb1-ee88-48d9-bdff-230fde468921"
      },
      "execution_count": 4,
      "outputs": [
        {
          "output_type": "execute_result",
          "data": {
            "text/plain": [
              "Text(0.5, 1.0, 'Initial condition function for $L=$20')"
            ]
          },
          "metadata": {},
          "execution_count": 4
        },
        {
          "output_type": "display_data",
          "data": {
            "text/plain": [
              "<Figure size 432x288 with 1 Axes>"
            ],
            "image/png": "[encoded data removed]"
          },
          "metadata": {
            "needs_background": "light"
          }
        }
      ]
    },
    {
      "cell_type": "code",
      "execution_count": 5,
      "metadata": {
        "id": "dbx1YulhoORs"
      },
      "outputs": [],
      "source": [
        "# The \"physics-informed\" part of the loss\n",
        "\n",
        "\n",
        "def pde(x, y):\n",
        "    \"\"\"\n",
        "    INPUTS:\n",
        "        x: x[:,0] is x-coordinate\n",
        "           x[:,1] is t-coordinate\n",
        "        y: Network output, in this case:\n",
        "            y[:,0] is u(x,t) the real part\n",
        "            y[:,1] is v(x,t) the imaginary part\n",
        "    OUTPUT:\n",
        "        The pde in standard form i.e. something that must be zero\n",
        "    \"\"\"\n",
        "\n",
        "    u = y[:, 0:1]\n",
        "    v = y[:, 1:2]\n",
        "\n",
        "    # In 'jacobian', i is the output component and j is the input component\n",
        "    u_t = dde.grad.jacobian(y, x, i=0, j=1)\n",
        "    v_t = dde.grad.jacobian(y, x, i=1, j=1)\n",
        "\n",
        "    # In 'hessian', i and j are both input components. (The Hessian could be in principle something like d^2y/dxdt, d^2y/d^2x etc)\n",
        "    # The output component is selected by \"component\"\n",
        "    u_xx = dde.grad.hessian(y, x, component=0, i=0, j=0)\n",
        "    v_xx = dde.grad.hessian(y, x, component=1, i=0, j=0)\n",
        "\n",
        "    f_t = 1\n",
        "    f_u = (u_t - v * f_t * x[:, 0:1] - u_xx)\n",
        "    f_v = (v_t + u * f_t * x[:, 0:1] - v_xx)\n",
        "\n",
        "    return [f_u, f_v]"
      ]
    },
    {
      "cell_type": "code",
      "execution_count": 6,
      "metadata": {
        "id": "OisdDqf0oSLx"
      },
      "outputs": [],
      "source": [
        "# Soft Initial conditions\n",
        "\n",
        "def init_cond_u(x):\n",
        "    # Gaussian approximation of delta function\n",
        "    return np.ones_like(x[:, 0:1])/L\n",
        "\n",
        "def init_cond_v(x):\n",
        "    return 0\n",
        "\n",
        "\n",
        "ic_u = dde.icbc.IC(geomtime, init_cond_u, lambda _, on_initial: on_initial, component=0)\n",
        "ic_v = dde.icbc.IC(geomtime, init_cond_v, lambda _, on_initial: on_initial, component=1)\n"
      ]
    },
    {
      "cell_type": "code",
      "execution_count": 7,
      "metadata": {
        "id": "u-f8sfj2oWgy",
        "colab": {
          "base_uri": "https://localhost:8080/"
        },
        "outputId": "6489a588-1b68-4d41-f705-29bcffcd2df1"
      },
      "outputs": [
        {
          "output_type": "stream",
          "name": "stderr",
          "text": [
            "/usr/local/lib/python3.7/dist-packages/skopt/sampler/sobol.py:250: UserWarning: The balance properties of Sobol' points require n to be a power of 2. 0 points have been previously generated, then: n=0+10002=10002. \n",
            "  total_n_samples))\n"
          ]
        }
      ],
      "source": [
        "data = dde.data.TimePDE(\n",
        "    geomtime,\n",
        "    pde,\n",
        "    [],\n",
        "    num_domain=10000,\n",
        "    num_initial=0,\n",
        "    train_distribution=\"Sobol\"\n",
        ")\n",
        "\n",
        "def modify_output(x, y):\n",
        "    u, v = y[:, 0:1], y[:, 1:2]\n",
        "    u_new = x[:, 1:2] * u + tf.ones_like(x[:, 0:1])\n",
        "    v_new = x[:, 1:2] * v\n",
        "    print(u[0], v[0])\n",
        "    return tf.concat((u_new, v_new), axis=1)\n",
        "\n",
        "# Network architecture\n",
        "net = dde.nn.FNN([2] + [64] * 3 + [2], \"tanh\", \"Glorot normal\")\n",
        "\n",
        "net.apply_output_transform(modify_output)\n",
        "\n",
        "model = dde.Model(data, net)"
      ]
    },
    {
      "cell_type": "markdown",
      "metadata": {
        "id": "Hu5Tyq32DezT"
      },
      "source": [
        "Adam optimization.  "
      ]
    },
    {
      "cell_type": "code",
      "execution_count": 8,
      "metadata": {
        "colab": {
          "base_uri": "https://localhost:8080/"
        },
        "id": "BR_s0D-_oZYz",
        "outputId": "7c87c0fc-c556-4ad4-e630-4bfa4e95f815"
      },
      "outputs": [
        {
          "output_type": "stream",
          "name": "stdout",
          "text": [
            "Compiling model...\n",
            "Building feed-forward neural network...\n",
            "Tensor(\"strided_slice_5:0\", shape=(1,), dtype=float32) Tensor(\"strided_slice_6:0\", shape=(1,), dtype=float32)\n",
            "'build' took 0.082892 s\n",
            "\n"
          ]
        },
        {
          "output_type": "stream",
          "name": "stderr",
          "text": [
            "/usr/local/lib/python3.7/dist-packages/deepxde/nn/tensorflow_compat_v1/fnn.py:110: UserWarning: `tf.layers.dense` is deprecated and will be removed in a future version. Please use `tf.keras.layers.Dense` instead.\n",
            "  kernel_constraint=self.kernel_constraint,\n",
            "/usr/local/lib/python3.7/dist-packages/keras/legacy_tf_layers/core.py:261: UserWarning: `layer.apply` is deprecated and will be removed in a future version. Please use `layer.__call__` method instead.\n",
            "  return layer.apply(inputs)\n"
          ]
        },
        {
          "output_type": "stream",
          "name": "stdout",
          "text": [
            "'compile' took 1.872668 s\n",
            "\n",
            "Initializing variables...\n",
            "Training model...\n",
            "\n",
            "Step      Train loss              Test loss               Test metric\n",
            "0         [7.15e+01, 6.47e+01]    [7.15e+01, 6.47e+01]    []  \n",
            "1000      [5.28e-01, 1.26e+00]    [5.28e-01, 1.26e+00]    []  \n",
            "2000      [5.17e-01, 6.37e-01]    [5.17e-01, 6.37e-01]    []  \n",
            "3000      [3.94e-01, 4.26e-01]    [3.94e-01, 4.26e-01]    []  \n",
            "4000      [2.83e-01, 3.14e-01]    [2.83e-01, 3.14e-01]    []  \n",
            "5000      [2.06e-01, 2.23e-01]    [2.06e-01, 2.23e-01]    []  \n",
            "6000      [1.30e-01, 1.43e-01]    [1.30e-01, 1.43e-01]    []  \n",
            "7000      [9.24e-02, 9.98e-02]    [9.24e-02, 9.98e-02]    []  \n",
            "8000      [6.71e-02, 7.42e-02]    [6.71e-02, 7.42e-02]    []  \n",
            "9000      [5.23e-02, 5.85e-02]    [5.23e-02, 5.85e-02]    []  \n",
            "10000     [3.99e-02, 4.63e-02]    [3.99e-02, 4.63e-02]    []  \n",
            "\n",
            "Best model at step 10000:\n",
            "  train loss: 8.62e-02\n",
            "  test loss: 8.62e-02\n",
            "  test metric: []\n",
            "\n",
            "'train' took 83.441529 s\n",
            "\n"
          ]
        },
        {
          "output_type": "execute_result",
          "data": {
            "text/plain": [
              "(<deepxde.model.LossHistory at 0x7f61baca7510>,\n",
              " <deepxde.model.TrainState at 0x7f61bbceb5d0>)"
            ]
          },
          "metadata": {},
          "execution_count": 8
        }
      ],
      "source": [
        "# To employ a GPU accelerated system is highly encouraged.\n",
        "\n",
        "model.compile(\"adam\", lr=1e-3, loss=\"MSE\", loss_weights=[1, 1])\n",
        "model.train(epochs=30000, display_every=1000)"
      ]
    },
    {
      "cell_type": "markdown",
      "metadata": {
        "id": "xbAdby9zDosK"
      },
      "source": [
        "L-BFGS optimization."
      ]
    },
    {
      "cell_type": "code",
      "execution_count": 9,
      "metadata": {
        "id": "SVSKBTp6qRX8",
        "colab": {
          "base_uri": "https://localhost:8080/"
        },
        "outputId": "045c63eb-60be-4bf8-902c-0e1dcf84aa6a"
      },
      "outputs": [
        {
          "output_type": "stream",
          "name": "stdout",
          "text": [
            "Compiling model...\n",
            "'compile' took 0.694637 s\n",
            "\n",
            "Training model...\n",
            "\n",
            "Step      Train loss              Test loss               Test metric\n",
            "10000     [3.99e-02, 4.63e-02]    [3.99e-02, 4.63e-02]    []  \n",
            "11000     [5.83e-03, 6.78e-03]                                \n",
            "12000     [2.46e-03, 2.95e-03]                                \n",
            "13000     [9.23e-04, 9.19e-04]                                \n",
            "14000     [3.49e-04, 4.04e-04]                                \n",
            "15000     [2.30e-04, 2.49e-04]                                \n",
            "16000     [1.97e-04, 1.73e-04]                                \n",
            "17000     [1.51e-04, 1.46e-04]                                \n",
            "18000     [1.15e-04, 1.22e-04]                                \n",
            "19000     [9.78e-05, 9.79e-05]                                \n",
            "INFO:tensorflow:Optimization terminated with:\n",
            "  Message: b'CONVERGENCE: REL_REDUCTION_OF_F_<=_FACTR*EPSMCH'\n",
            "  Objective function value: 0.000194\n",
            "  Number of iterations: 8495\n",
            "  Number of functions evaluations: 9099\n",
            "19099     [9.61e-05, 9.74e-05]    [9.61e-05, 9.74e-05]    []  \n",
            "\n",
            "Best model at step 19099:\n",
            "  train loss: 1.94e-04\n",
            "  test loss: 1.94e-04\n",
            "  test metric: []\n",
            "\n",
            "'train' took 112.052657 s\n",
            "\n"
          ]
        },
        {
          "output_type": "execute_result",
          "data": {
            "text/plain": [
              "(<deepxde.model.LossHistory at 0x7f61baca7510>,\n",
              " <deepxde.model.TrainState at 0x7f61bbceb5d0>)"
            ]
          },
          "metadata": {},
          "execution_count": 9
        }
      ],
      "source": [
        "\n",
        "dde.optimizers.config.set_LBFGS_options(\n",
        "    maxcor=50,\n",
        "    ftol=1.0 * np.finfo(float).eps,\n",
        "    gtol=1e-08,\n",
        "    maxiter=80000,\n",
        "    maxfun=10000,\n",
        "    maxls=50,\n",
        ")\n",
        "model.compile(\"L-BFGS\")\n",
        "model.train()\n"
      ]
    },
    {
      "cell_type": "code",
      "execution_count": 10,
      "metadata": {
        "id": "aYl4TD96FrLV"
      },
      "outputs": [],
      "source": [
        "# Make prediction\n",
        "prediction = model.predict(X_star, operator=None)\n",
        "\n",
        "u = griddata(X_star, prediction[:, 0], (X, T), method=\"cubic\")\n",
        "v = griddata(X_star, prediction[:, 1], (X, T), method=\"cubic\")\n",
        "\n",
        "h = np.sqrt(u ** 2 + v ** 2)\n"
      ]
    },
    {
      "cell_type": "code",
      "source": [
        "u_in = np.trapz(u, x= x, axis = 1)\n",
        "v_in = np.trapz(v, x= x, axis = 1)\n",
        "\n",
        "h_in = np.sqrt(u_in**2 + v_in**2)\n",
        "\n",
        "plt.plot(t, h_in/L, label=\"Neural Network\")\n",
        "plt.xlabel(\"T\")\n",
        "plt.ylabel(\"M(T)\")\n",
        "plt.plot(time, np.abs(M_T(L)), label = \"p = 1\")\n",
        "plt.legend()\n",
        "plt.xlim(0,3)"
      ],
      "metadata": {
        "id": "rEjW13wFBNBe",
        "colab": {
          "base_uri": "https://localhost:8080/",
          "height": 296
        },
        "outputId": "2c130dd3-7a38-4531-e681-ed8cb8ead76a"
      },
      "execution_count": 11,
      "outputs": [
        {
          "output_type": "execute_result",
          "data": {
            "text/plain": [
              "(0.0, 3.0)"
            ]
          },
          "metadata": {},
          "execution_count": 11
        },
        {
          "output_type": "display_data",
          "data": {
            "text/plain": [
              "<Figure size 432x288 with 1 Axes>"
            ],
            "image/png": "[encoded data removed]"
          },
          "metadata": {
            "needs_background": "light"
          }
        }
      ]
    },
    {
      "cell_type": "code",
      "source": [
        ""
      ],
      "metadata": {
        "id": "6A3kWFShA5gp"
      },
      "execution_count": 11,
      "outputs": []
    }
  ],
  "metadata": {
    "accelerator": "GPU",
    "colab": {
      "collapsed_sections": [],
      "name": "bloch_torrey_pinn.ipynb",
      "provenance": [],
      "toc_visible": true,
      "include_colab_link": true
    },
    "kernelspec": {
      "display_name": "Python 3 (ipykernel)",
      "language": "python",
      "name": "python3"
    },
    "language_info": {
      "codemirror_mode": {
        "name": "ipython",
        "version": 3
      },
      "file_extension": ".py",
      "mimetype": "text/x-python",
      "name": "python",
      "nbconvert_exporter": "python",
      "pygments_lexer": "ipython3",
      "version": "3.8.8"
    }
  },
  "nbformat": 4,
  "nbformat_minor": 0
}